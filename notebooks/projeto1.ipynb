{
 "cells": [
  {
   "attachments": {},
   "cell_type": "markdown",
   "metadata": {},
   "source": []
  },
  {
   "cell_type": "code",
   "execution_count": 1,
   "metadata": {},
   "outputs": [],
   "source": [
    "RANDOM_SEED = 42"
   ]
  },
  {
   "cell_type": "code",
   "execution_count": null,
   "metadata": {},
   "outputs": [],
   "source": [
    "import pickle\n",
    "import pathlib\n",
    "\n",
    "import numpy as np\n",
    "import pandas as pd"
   ]
  },
  {
   "cell_type": "code",
   "execution_count": null,
   "metadata": {},
   "outputs": [],
   "source": [
    "DATA_DIR = pathlib.Path.cwd().parent / 'data'\n",
    "print(DATA_DIR)"
   ]
  },
  {
   "cell_type": "code",
   "execution_count": null,
   "metadata": {},
   "outputs": [],
   "source": [
    "clean_data_path = DATA_DIR / 'processed' / 'ames_clean.pkl'\n",
    "clean_data_path"
   ]
  },
  {
   "cell_type": "code",
   "execution_count": null,
   "metadata": {},
   "outputs": [],
   "source": [
    "with open(clean_data_path, 'rb') as file:\n",
    "    data = pickle.load(file)"
   ]
  },
  {
   "cell_type": "code",
   "execution_count": null,
   "metadata": {},
   "outputs": [],
   "source": [
    "data.info()"
   ]
  },
  {
   "cell_type": "code",
   "execution_count": null,
   "metadata": {},
   "outputs": [],
   "source": [
    "model_data = data.copy()\n",
    "model_data.head()"
   ]
  },
  {
   "cell_type": "code",
   "execution_count": null,
   "metadata": {},
   "outputs": [],
   "source": [
    "categorical_columns = []\n",
    "ordinal_columns = []\n",
    "for col in model_data.select_dtypes('category').columns:\n",
    "    if model_data[col].cat.ordered:\n",
    "        ordinal_columns.append(col)\n",
    "    else:\n",
    "        categorical_columns.append(col)"
   ]
  },
  {
   "cell_type": "code",
   "execution_count": null,
   "metadata": {},
   "outputs": [],
   "source": [
    "numerical_data = data.select_dtypes('number').drop(columns='SalePrice').copy()\n",
    "target = data['SalePrice'].copy()\n",
    "numerical_data.corrwith(target).sort_values()\n",
    "\n",
    "\n",
    "\n",
    "ordinal_columns"
   ]
  },
  {
   "cell_type": "code",
   "execution_count": null,
   "metadata": {},
   "outputs": [],
   "source": [
    "categorical_columns\n"
   ]
  },
  {
   "cell_type": "code",
   "execution_count": null,
   "metadata": {},
   "outputs": [],
   "source": [
    "for col in ordinal_columns:\n",
    "    codes, _ = pd.factorize(data[col], sort=True)\n",
    "    model_data[col] = codes"
   ]
  },
  {
   "cell_type": "code",
   "execution_count": null,
   "metadata": {},
   "outputs": [],
   "source": [
    "model_data[ordinal_columns].info()"
   ]
  },
  {
   "cell_type": "code",
   "execution_count": null,
   "metadata": {},
   "outputs": [],
   "source": [
    "data['Lot.Shape'].value_counts()"
   ]
  },
  {
   "cell_type": "code",
   "execution_count": null,
   "metadata": {},
   "outputs": [],
   "source": [
    "model_data['Lot.Shape'].value_counts()"
   ]
  },
  {
   "cell_type": "code",
   "execution_count": null,
   "metadata": {},
   "outputs": [],
   "source": [
    "model_data['Exterior'].value_counts()"
   ]
  },
  {
   "cell_type": "code",
   "execution_count": null,
   "metadata": {},
   "outputs": [],
   "source": [
    "original_data = model_data['Exterior']\n",
    "encoded_data = pd.get_dummies(original_data)\n",
    "\n",
    "aux_dataframe = encoded_data\n",
    "aux_dataframe['Exterior'] = original_data.copy()\n",
    "\n",
    "aux_dataframe.head().transpose()"
   ]
  },
  {
   "cell_type": "code",
   "execution_count": null,
   "metadata": {},
   "outputs": [],
   "source": [
    "original_data = model_data['Exterior']\n",
    "encoded_data = pd.get_dummies(original_data, drop_first=True)\n",
    "\n",
    "aux_dataframe = encoded_data\n",
    "aux_dataframe['Exterior'] = original_data.copy()\n",
    "\n",
    "aux_dataframe.head().transpose()"
   ]
  },
  {
   "cell_type": "code",
   "execution_count": null,
   "metadata": {},
   "outputs": [],
   "source": [
    "model_data = pd.get_dummies(model_data, drop_first=True)"
   ]
  },
  {
   "cell_type": "code",
   "execution_count": null,
   "metadata": {},
   "outputs": [],
   "source": [
    "model_data.info()"
   ]
  },
  {
   "cell_type": "code",
   "execution_count": null,
   "metadata": {},
   "outputs": [],
   "source": [
    "for cat in categorical_columns:\n",
    "    dummies = []\n",
    "    for col in model_data.columns:\n",
    "        if col.startswith(cat + \"_\"):\n",
    "            dummies.append(f'\"{col}\"')\n",
    "    dummies_str = ', '.join(dummies)\n",
    "    print(f'From column \"{cat}\" we made {dummies_str}\\n')"
   ]
  },
  {
   "cell_type": "code",
   "execution_count": null,
   "metadata": {},
   "outputs": [],
   "source": [
    "X = model_data.drop(columns=['SalePrice']).copy()\n",
    "y = model_data['SalePrice'].copy()"
   ]
  },
  {
   "cell_type": "code",
   "execution_count": null,
   "metadata": {},
   "outputs": [],
   "source": [
    "X.values, y.values"
   ]
  },
  {
   "cell_type": "code",
   "execution_count": null,
   "metadata": {},
   "outputs": [],
   "source": [
    "from sklearn.model_selection import train_test_split"
   ]
  },
  {
   "cell_type": "code",
   "execution_count": null,
   "metadata": {},
   "outputs": [],
   "source": [
    "Xtrain, Xtest, ytrain, ytest = train_test_split(\n",
    "    X,\n",
    "    y,\n",
    "    test_size=0.25,\n",
    "    random_state=RANDOM_SEED,\n",
    ")\n"
   ]
  },
  {
   "cell_type": "code",
   "execution_count": null,
   "metadata": {},
   "outputs": [],
   "source": [
    "X.shape, Xtrain.shape, Xtest.shape"
   ]
  },
  {
   "cell_type": "code",
   "execution_count": null,
   "metadata": {},
   "outputs": [],
   "source": [
    "y.shape, ytrain.shape, ytest.shape"
   ]
  },
  {
   "cell_type": "code",
   "execution_count": null,
   "metadata": {},
   "outputs": [],
   "source": [
    "from sklearn.ensemble import RandomForestRegressor\n",
    "from sklearn.tree import DecisionTreeRegressor\n",
    "from sklearn.model_selection import cross_val_score, train_test_split, GridSearchCV\n",
    "\n",
    "\n",
    "\n",
    "grid_search_forest = GridSearchCV(\n",
    "    RandomForestRegressor(n_estimators=100, random_state=RANDOM_SEED, n_jobs=-1),\n",
    "    {'n_estimators': [300, 1000, 3000]},\n",
    "    cv=4, \n",
    "    n_jobs=-1, \n",
    "    scoring='neg_mean_squared_error', \n",
    "    return_train_score=True\n",
    ")\n",
    "\n",
    "grid_search_tree = GridSearchCV(\n",
    "    DecisionTreeRegressor(random_state=RANDOM_SEED),\n",
    "    {'max_depth': [3, 5, 7]},\n",
    "    cv=4,\n",
    "    n_jobs=-1,\n",
    "    scoring='neg_mean_squared_error',\n",
    "    return_train_score=True\n",
    ")"
   ]
  },
  {
   "cell_type": "code",
   "execution_count": null,
   "metadata": {},
   "outputs": [],
   "source": [
    "grid_search_forest.fit(Xtrain, ytrain)\n",
    "forest_reg = grid_search_forest.best_estimator_\n",
    "forest_reg_scores = cross_val_score(forest_reg, Xtrain, ytrain, \n",
    "                                    scoring=\"neg_mean_squared_error\", cv=8, n_jobs=-1)\n",
    "forest_reg_rmse_scores = np.sqrt(-forest_reg_scores)"
   ]
  },
  {
   "cell_type": "code",
   "execution_count": null,
   "metadata": {},
   "outputs": [],
   "source": [
    "grid_search_tree.fit(Xtrain, ytrain)\n",
    "tree_reg = grid_search_tree.best_estimator_\n",
    "tree_reg_scores = cross_val_score(tree_reg, Xtrain, ytrain, \n",
    "                                  scoring=\"neg_mean_squared_error\", cv=8, n_jobs=-1)\n",
    "tree_reg_rmse_scores = np.sqrt(-tree_reg_scores)"
   ]
  },
  {
   "cell_type": "code",
   "execution_count": null,
   "metadata": {},
   "outputs": [],
   "source": [
    "print(forest_reg_rmse_scores)\n",
    "print(forest_reg_rmse_scores.mean())\n",
    "\n",
    "print(tree_reg_rmse_scores)\n",
    "print(tree_reg_rmse_scores.mean())"
   ]
  },
  {
   "cell_type": "code",
   "execution_count": null,
   "metadata": {},
   "outputs": [],
   "source": [
    "# testando um teste parametrico\n",
    "from scipy.stats import ttest_ind\n",
    "\n",
    "def compara_scores(scores_1, scores_2):\n",
    "    t_stat, p_value = ttest_ind(scores_1, scores_2, equal_var=False)\n",
    "    print(\"Valor da estatística t: {:.2f}\".format(t_stat))\n",
    "    print(\"Valor-p: {}\".format(p_value))"
   ]
  },
  {
   "cell_type": "code",
   "execution_count": null,
   "metadata": {},
   "outputs": [],
   "source": [
    "from scipy.stats import mannwhitneyu\n",
    "\n",
    "U, p_value = mannwhitneyu(forest_reg_rmse_scores, tree_reg_rmse_scores)\n",
    "print('U =', U)\n",
    "print('p-value =', p_value)"
   ]
  },
  {
   "cell_type": "code",
   "execution_count": null,
   "metadata": {},
   "outputs": [],
   "source": [
    "compara_scores(forest_reg_rmse_scores, tree_reg_rmse_scores)"
   ]
  },
  {
   "cell_type": "code",
   "execution_count": null,
   "metadata": {},
   "outputs": [],
   "source": [
    "from sklearn.linear_model import ElasticNet, Lasso, Ridge\n",
    "from sklearn.pipeline import Pipeline\n",
    "from sklearn.preprocessing import StandardScaler, PolynomialFeatures\n",
    "from sklearn.metrics import mean_squared_error"
   ]
  },
  {
   "cell_type": "code",
   "execution_count": null,
   "metadata": {},
   "outputs": [],
   "source": [
    "def outro_experimento(msg, pipeline, X_train, y_train, X_test, y_test):\n",
    "    pipeline.fit(X_train, y_train)\n",
    "    y_pred = pipeline.predict(X_test)\n",
    "    RMSE = np.sqrt(mean_squared_error(y_pred, y_test))\n",
    "\n",
    "    model = pipeline.named_steps['reg']\n",
    "    print(f'{msg}:')\n",
    "    print(f'RMSE: {RMSE}')\n",
    "    print()"
   ]
  },
  {
   "cell_type": "code",
   "execution_count": 65,
   "metadata": {},
   "outputs": [
    {
     "name": "stderr",
     "output_type": "stream",
     "text": [
      "<>:4: SyntaxWarning: 'tuple' object is not callable; perhaps you missed a comma?\n",
      "<>:4: SyntaxWarning: 'tuple' object is not callable; perhaps you missed a comma?\n",
      "/var/folders/00/v31y1rs57x3b9smq12j1ddzw0000gn/T/ipykernel_20904/3159178744.py:4: SyntaxWarning: 'tuple' object is not callable; perhaps you missed a comma?\n",
      "  ('lasso_reg', Lasso(alpha=0.1, random_state=RANDOM_SEED))\n"
     ]
    },
    {
     "ename": "TypeError",
     "evalue": "'tuple' object is not callable",
     "output_type": "error",
     "traceback": [
      "\u001b[0;31m---------------------------------------------------------------------------\u001b[0m",
      "\u001b[0;31mTypeError\u001b[0m                                 Traceback (most recent call last)",
      "Cell \u001b[0;32mIn[65], line 4\u001b[0m\n\u001b[1;32m      1\u001b[0m poly_reg \u001b[39m=\u001b[39m Pipeline([\n\u001b[1;32m      2\u001b[0m     (\u001b[39m'\u001b[39m\u001b[39mpoly_features\u001b[39m\u001b[39m'\u001b[39m, PolynomialFeatures(degree\u001b[39m=\u001b[39m\u001b[39m2\u001b[39m, include_bias\u001b[39m=\u001b[39m\u001b[39mFalse\u001b[39;00m)),\n\u001b[1;32m      3\u001b[0m     (\u001b[39m'\u001b[39m\u001b[39mstd_scaler\u001b[39m\u001b[39m'\u001b[39m, StandardScaler()),\n\u001b[0;32m----> 4\u001b[0m     (\u001b[39m'\u001b[39;49m\u001b[39mlasso_reg\u001b[39;49m\u001b[39m'\u001b[39;49m, Lasso(alpha\u001b[39m=\u001b[39;49m\u001b[39m0.1\u001b[39;49m, random_state\u001b[39m=\u001b[39;49mRANDOM_SEED))\n\u001b[1;32m      5\u001b[0m     (\u001b[39m'\u001b[39;49m\u001b[39mreg\u001b[39;49m\u001b[39m'\u001b[39;49m, RandomForestRegressor(n_estimators\u001b[39m=\u001b[39;49m\u001b[39m100\u001b[39;49m, random_state\u001b[39m=\u001b[39;49mRANDOM_SEED, n_jobs\u001b[39m=\u001b[39;49m\u001b[39m-\u001b[39;49m\u001b[39m1\u001b[39;49m))\n\u001b[1;32m      6\u001b[0m ])\n",
      "\u001b[0;31mTypeError\u001b[0m: 'tuple' object is not callable"
     ]
    }
   ],
   "source": [
    "poly_reg = Pipeline([\n",
    "    ('poly_features', PolynomialFeatures(degree=2, include_bias=False)),\n",
    "    ('std_scaler', StandardScaler()),\n",
    "    ('reg', RandomForestRegressor(n_estimators=100, random_state=RANDOM_SEED, n_jobs=-1))\n",
    "])"
   ]
  },
  {
   "cell_type": "code",
   "execution_count": 64,
   "metadata": {},
   "outputs": [
    {
     "name": "stdout",
     "output_type": "stream",
     "text": [
      "Random Forest com PolynomialFeatures:\n",
      "RMSE: 0.06142623923277575\n",
      "\n"
     ]
    }
   ],
   "source": [
    "outro_experimento('Random Forest com PolynomialFeatures', poly_reg, Xtrain, ytrain, Xtest, ytest)"
   ]
  },
  {
   "cell_type": "code",
   "execution_count": null,
   "metadata": {},
   "outputs": [],
   "source": [
    "# teste 2"
   ]
  }
 ],
 "metadata": {
  "kernelspec": {
   "display_name": "Python 3",
   "language": "python",
   "name": "python3"
  },
  "language_info": {
   "codemirror_mode": {
    "name": "ipython",
    "version": 3
   },
   "file_extension": ".py",
   "mimetype": "text/x-python",
   "name": "python",
   "nbconvert_exporter": "python",
   "pygments_lexer": "ipython3",
   "version": "3.11.4"
  },
  "orig_nbformat": 4
 },
 "nbformat": 4,
 "nbformat_minor": 2
}
